{
 "cells": [
  {
   "cell_type": "markdown",
   "metadata": {},
   "source": [
    "TF-IDF\n",
    "\n",
    "TF-IDF是在自然语言处理（NLP）中常用的统计方法，用来评估单个单词在文档中的重要程度。\n",
    "\n",
    "TF表示词频，对一个文档而言，词频就是词在文档出现的次数除以文档的词语总数。\n",
    "\n",
    "IDF表示一个词的逆向文档频率指数。可以由总文档数除以包含该词出现的文档数目，然后取对数。\n",
    "\n",
    "例如：有10000个文档，“Python”只出现了10篇文章，则IDF=log(10000/10)=3；“我”字在所有文档都出现过，则IDF为0。\n",
    "\n",
    "词频和权重指数相乘，就是词在文档中的重要程度。可以看出，词的重要性随它在文档中出现的频次呈正比增加，但同时也会随着它在语料库中出现的频率呈反比下降。"
   ]
  },
  {
   "cell_type": "markdown",
   "metadata": {},
   "source": [
    "### 导入数据"
   ]
  },
  {
   "cell_type": "code",
   "execution_count": 7,
   "metadata": {},
   "outputs": [],
   "source": [
    "from sklearn.datasets import load_files"
   ]
  },
  {
   "cell_type": "code",
   "execution_count": 8,
   "metadata": {},
   "outputs": [],
   "source": [
    "news_train = load_files('data/379/train')"
   ]
  },
  {
   "cell_type": "code",
   "execution_count": 9,
   "metadata": {},
   "outputs": [
    {
     "data": {
      "text/plain": [
       "array([18, 13,  1, ..., 14, 15,  4])"
      ]
     },
     "execution_count": 9,
     "metadata": {},
     "output_type": "execute_result"
    }
   ],
   "source": [
    "news_train.target"
   ]
  },
  {
   "cell_type": "code",
   "execution_count": 10,
   "metadata": {},
   "outputs": [
    {
     "data": {
      "text/plain": [
       "['alt.atheism',\n",
       " 'comp.graphics',\n",
       " 'comp.os.ms-windows.misc',\n",
       " 'comp.sys.ibm.pc.hardware',\n",
       " 'comp.sys.mac.hardware',\n",
       " 'comp.windows.x',\n",
       " 'misc.forsale',\n",
       " 'rec.autos',\n",
       " 'rec.motorcycles',\n",
       " 'rec.sport.baseball',\n",
       " 'rec.sport.hockey',\n",
       " 'sci.crypt',\n",
       " 'sci.electronics',\n",
       " 'sci.med',\n",
       " 'sci.space',\n",
       " 'soc.religion.christian',\n",
       " 'talk.politics.guns',\n",
       " 'talk.politics.mideast',\n",
       " 'talk.politics.misc',\n",
       " 'talk.religion.misc']"
      ]
     },
     "execution_count": 10,
     "metadata": {},
     "output_type": "execute_result"
    }
   ],
   "source": [
    "news_train.target_names"
   ]
  },
  {
   "cell_type": "code",
   "execution_count": 11,
   "metadata": {},
   "outputs": [
    {
     "data": {
      "text/plain": [
       "'talk.politics.misc'"
      ]
     },
     "execution_count": 11,
     "metadata": {},
     "output_type": "execute_result"
    }
   ],
   "source": [
    "news_train.target_names[news_train.target[0]]"
   ]
  },
  {
   "cell_type": "code",
   "execution_count": 12,
   "metadata": {},
   "outputs": [
    {
     "data": {
      "text/plain": [
       "b'From: demon@desire.wright.edu (Not a Boomer)\\nSubject: The real source of trouble in the US health care system\\n\\n\\tCancel private health insurance?\\n\\n\\tWhen government care that only covers 20% of the population consumes\\n42% of the spending for health care?\\n\\n\\tNOT!\\n\\n\\tNational Health Expenditures: 1960 to 1990\\n(Includes Puerto Rico and outlying areas.)\\n\\nYear\\tHealth Services and Supplies ($billions)\\n\\tPrivate\\t\\tPublic\\n====================================\\n1960\\t$19.8\\t\\t$5.7\\t(22% of total)\\n1970\\t$44.1\\t\\t$24.9\\t(56% of total)\\n1980\\t$140.7\\t\\t$98.1\\t(41% of total)\\n1990\\t$374.8\\t\\t$268.6\\t(42% of total)\\n\\n[Source: American Almanac, Page 97.  1992-3 Edition]\\n\\n\\tNow you understand where most of that 12.2% of GNP is going--to waste.\\n\\n\\tBy these figures, private insurance is spending 58% of the money to\\ncover 4 times as many people.\\n\\n\\tGo figure.\\n\\nBrett\\n________________________________________________________________________________\\n\\t\"There\\'s nothing so passionate as a vested interest disguised as an\\nintellectual conviction.\"  Sean O\\'Casey in _The White Plague_ by Frank Herbert.\\n'"
      ]
     },
     "execution_count": 12,
     "metadata": {},
     "output_type": "execute_result"
    }
   ],
   "source": [
    "news_train.data[0]"
   ]
  },
  {
   "cell_type": "markdown",
   "metadata": {},
   "source": [
    "### 数据转换"
   ]
  },
  {
   "cell_type": "code",
   "execution_count": 14,
   "metadata": {},
   "outputs": [],
   "source": [
    "from sklearn.feature_extraction.text import TfidfVectorizer\n",
    "\n",
    "vect = TfidfVectorizer(encoding='latin-1')\n",
    "X_train = vect.fit_transform(news_train.data)"
   ]
  },
  {
   "cell_type": "code",
   "execution_count": 15,
   "metadata": {},
   "outputs": [
    {
     "data": {
      "text/plain": [
       "(13180, 130274)"
      ]
     },
     "execution_count": 15,
     "metadata": {},
     "output_type": "execute_result"
    }
   ],
   "source": [
    "import numpy as np\n",
    "X_train.shape"
   ]
  },
  {
   "cell_type": "code",
   "execution_count": 16,
   "metadata": {},
   "outputs": [
    {
     "name": "stdout",
     "output_type": "stream",
     "text": [
      "  (0, 56813)\t0.014332663773643272\n",
      "  (0, 45689)\t0.08373343949755\n",
      "  (0, 46084)\t0.08109733529789522\n",
      "  (0, 125882)\t0.0873157704840211\n",
      "  (0, 50150)\t0.020654313721609956\n",
      "  (0, 87702)\t0.04643235585055511\n",
      "  (0, 33334)\t0.1025405658189532\n",
      "  (0, 111805)\t0.014332663773643272\n",
      "  (0, 115086)\t0.07712947008554673\n",
      "  (0, 99721)\t0.05039080222145882\n",
      "  (0, 109314)\t0.11722978151290249\n",
      "  (0, 89035)\t0.17133856150856897\n",
      "  (0, 117388)\t0.06879042701689829\n",
      "  (0, 66565)\t0.03373591167198109\n",
      "  (0, 120409)\t0.0422379709863369\n",
      "  (0, 62408)\t0.3669560132378484\n",
      "  (0, 36885)\t0.17911945780714125\n",
      "  (0, 113268)\t0.045722894553426\n",
      "  (0, 36634)\t0.10887320610155209\n",
      "  (0, 95990)\t0.19525865433679337\n",
      "  (0, 67717)\t0.15584408886218354\n",
      "  (0, 124607)\t0.03283897072404772\n",
      "  (0, 59746)\t0.052472908888225735\n",
      "  (0, 115068)\t0.03850593696943872\n",
      "  (0, 89566)\t0.03321158087168379\n",
      "  :\t:\n",
      "  (0, 115836)\t0.05445585339392558\n",
      "  (0, 28463)\t0.07743709638232414\n",
      "  (0, 79247)\t0.04065946034093589\n",
      "  (0, 92698)\t0.03574458886447535\n",
      "  (0, 59404)\t0.04178054660832682\n",
      "  (0, 55031)\t0.06757980758111144\n",
      "  (0, 33945)\t0.09046984348792121\n",
      "  (0, 22149)\t0.10018566542781165\n",
      "  (0, 115213)\t0.02746663816677066\n",
      "  (0, 87732)\t0.05085583401301098\n",
      "  (0, 108846)\t0.028739469547072936\n",
      "  (0, 92004)\t0.10887320610155209\n",
      "  (0, 121947)\t0.10416486776136749\n",
      "  (0, 67875)\t0.0659363826688508\n",
      "  (0, 47273)\t0.10474995568339582\n",
      "  (0, 26764)\t0.027221352931954584\n",
      "  (0, 67768)\t0.08982314745972582\n",
      "  (0, 41790)\t0.09260592033433869\n",
      "  (0, 105800)\t0.08713990737243116\n",
      "  (0, 37075)\t0.10018566542781165\n",
      "  (0, 23162)\t0.08920437523600384\n",
      "  (0, 124699)\t0.06257976758779137\n",
      "  (0, 94119)\t0.1159317059788844\n",
      "  (0, 56555)\t0.06984885482106491\n",
      "  (0, 62776)\t0.10474995568339582\n"
     ]
    }
   ],
   "source": [
    "print(X_train[0,:])"
   ]
  },
  {
   "cell_type": "markdown",
   "metadata": {},
   "source": [
    "### 训练模型"
   ]
  },
  {
   "cell_type": "code",
   "execution_count": 17,
   "metadata": {},
   "outputs": [],
   "source": [
    "from sklearn.naive_bayes import MultinomialNB\n",
    "y_train = news_train.target\n",
    "clf = MultinomialNB(alpha=0.0001)\n",
    "clf.fit(X_train, y_train)\n",
    "train_score = clf.score(X_train, y_train)"
   ]
  },
  {
   "cell_type": "code",
   "execution_count": 18,
   "metadata": {},
   "outputs": [
    {
     "data": {
      "text/plain": [
       "0.9978755690440061"
      ]
     },
     "execution_count": 18,
     "metadata": {},
     "output_type": "execute_result"
    }
   ],
   "source": [
    "train_score"
   ]
  },
  {
   "cell_type": "code",
   "execution_count": 19,
   "metadata": {},
   "outputs": [],
   "source": [
    "news_test = load_files('data/379/test')"
   ]
  },
  {
   "cell_type": "code",
   "execution_count": 20,
   "metadata": {},
   "outputs": [],
   "source": [
    "X_test = vect.transform(news_test.data)\n",
    "y_test = news_test.target"
   ]
  },
  {
   "cell_type": "code",
   "execution_count": 21,
   "metadata": {},
   "outputs": [],
   "source": [
    "pred = clf.predict(X_test[0])"
   ]
  },
  {
   "cell_type": "code",
   "execution_count": 22,
   "metadata": {},
   "outputs": [
    {
     "data": {
      "text/plain": [
       "array([7])"
      ]
     },
     "execution_count": 22,
     "metadata": {},
     "output_type": "execute_result"
    }
   ],
   "source": [
    "pred"
   ]
  },
  {
   "cell_type": "code",
   "execution_count": 23,
   "metadata": {},
   "outputs": [
    {
     "data": {
      "text/plain": [
       "7"
      ]
     },
     "execution_count": 23,
     "metadata": {},
     "output_type": "execute_result"
    }
   ],
   "source": [
    "news_test.target[0]"
   ]
  },
  {
   "cell_type": "markdown",
   "metadata": {},
   "source": [
    "### 模型评价"
   ]
  },
  {
   "cell_type": "code",
   "execution_count": 24,
   "metadata": {},
   "outputs": [
    {
     "data": {
      "text/plain": [
       "0.9088172804532578"
      ]
     },
     "execution_count": 24,
     "metadata": {},
     "output_type": "execute_result"
    }
   ],
   "source": [
    "clf.score(X_test, y_test)"
   ]
  },
  {
   "cell_type": "code",
   "execution_count": 26,
   "metadata": {},
   "outputs": [
    {
     "name": "stdout",
     "output_type": "stream",
     "text": [
      "                          precision    recall  f1-score   support\n",
      "\n",
      "             alt.atheism       0.90      0.91      0.91       245\n",
      "           comp.graphics       0.80      0.90      0.85       298\n",
      " comp.os.ms-windows.misc       0.82      0.79      0.80       292\n",
      "comp.sys.ibm.pc.hardware       0.81      0.80      0.81       301\n",
      "   comp.sys.mac.hardware       0.90      0.91      0.91       256\n",
      "          comp.windows.x       0.88      0.88      0.88       297\n",
      "            misc.forsale       0.87      0.81      0.84       290\n",
      "               rec.autos       0.92      0.93      0.92       324\n",
      "         rec.motorcycles       0.96      0.96      0.96       294\n",
      "      rec.sport.baseball       0.97      0.94      0.96       315\n",
      "        rec.sport.hockey       0.96      0.99      0.98       302\n",
      "               sci.crypt       0.95      0.96      0.95       297\n",
      "         sci.electronics       0.91      0.85      0.88       313\n",
      "                 sci.med       0.96      0.96      0.96       277\n",
      "               sci.space       0.94      0.97      0.96       305\n",
      "  soc.religion.christian       0.93      0.96      0.94       293\n",
      "      talk.politics.guns       0.91      0.96      0.93       246\n",
      "   talk.politics.mideast       0.96      0.98      0.97       296\n",
      "      talk.politics.misc       0.90      0.90      0.90       236\n",
      "      talk.religion.misc       0.89      0.78      0.83       171\n",
      "\n",
      "               micro avg       0.91      0.91      0.91      5648\n",
      "               macro avg       0.91      0.91      0.91      5648\n",
      "            weighted avg       0.91      0.91      0.91      5648\n",
      "\n"
     ]
    }
   ],
   "source": [
    "from sklearn.metrics import classification_report\n",
    "\n",
    "pred = clf.predict(X_test)\n",
    "\n",
    "print(classification_report(y_test, pred, target_names=news_test.target_names))"
   ]
  },
  {
   "cell_type": "code",
   "execution_count": 27,
   "metadata": {},
   "outputs": [
    {
     "name": "stdout",
     "output_type": "stream",
     "text": [
      "[[224   0   0   0   0   0   0   0   0   0   0   0   0   0   2   5   0   0\n",
      "    1  13]\n",
      " [  1 267   5   5   2   8   1   1   0   0   0   2   3   2   1   0   0   0\n",
      "    0   0]\n",
      " [  1  13 230  24   4  10   5   0   0   0   0   1   2   1   0   0   0   0\n",
      "    1   0]\n",
      " [  0   9  21 242   7   2  10   1   0   0   1   1   7   0   0   0   0   0\n",
      "    0   0]\n",
      " [  0   1   5   5 233   2   2   2   1   0   0   3   1   0   1   0   0   0\n",
      "    0   0]\n",
      " [  0  20   6   3   1 260   0   0   0   2   0   1   0   0   2   0   2   0\n",
      "    0   0]\n",
      " [  0   2   5  12   3   1 235  10   2   3   1   0   7   0   2   0   2   1\n",
      "    4   0]\n",
      " [  0   1   0   0   1   0   8 300   4   1   0   0   1   2   3   0   2   0\n",
      "    1   0]\n",
      " [  0   1   0   0   0   2   2   3 283   0   0   0   1   0   0   0   0   0\n",
      "    1   1]\n",
      " [  0   1   1   0   1   2   1   2   0 297   8   1   0   1   0   0   0   0\n",
      "    0   0]\n",
      " [  0   0   0   0   0   0   0   0   2   2 298   0   0   0   0   0   0   0\n",
      "    0   0]\n",
      " [  0   1   2   0   0   1   1   0   0   0   0 284   2   1   0   0   2   1\n",
      "    2   0]\n",
      " [  0  11   3   5   4   2   4   5   1   1   0   4 266   1   4   0   1   0\n",
      "    1   0]\n",
      " [  1   1   0   1   0   2   1   0   0   0   0   0   1 266   2   1   0   0\n",
      "    1   0]\n",
      " [  0   3   0   0   1   1   0   0   0   0   0   1   0   1 296   0   1   0\n",
      "    1   0]\n",
      " [  3   1   0   1   0   0   0   0   0   0   1   0   0   2   1 280   0   1\n",
      "    1   2]\n",
      " [  1   0   2   0   0   0   0   0   1   0   0   0   0   0   0   0 236   1\n",
      "    4   1]\n",
      " [  1   0   0   0   0   1   0   0   0   0   0   0   0   0   0   3   0 290\n",
      "    1   0]\n",
      " [  2   1   0   0   1   1   0   1   0   0   0   0   0   0   0   1  10   7\n",
      "  212   0]\n",
      " [ 16   0   0   0   0   0   0   0   0   0   0   0   0   0   0  12   4   1\n",
      "    4 134]]\n"
     ]
    }
   ],
   "source": [
    "from sklearn.metrics import confusion_matrix\n",
    "\n",
    "cm = confusion_matrix(y_test, pred)\n",
    "\n",
    "print(cm)"
   ]
  },
  {
   "cell_type": "code",
   "execution_count": null,
   "metadata": {
    "collapsed": true
   },
   "outputs": [],
   "source": []
  }
 ],
 "metadata": {
  "kernelspec": {
   "display_name": "Python 3",
   "language": "python",
   "name": "python3"
  },
  "language_info": {
   "codemirror_mode": {
    "name": "ipython",
    "version": 3
   },
   "file_extension": ".py",
   "mimetype": "text/x-python",
   "name": "python",
   "nbconvert_exporter": "python",
   "pygments_lexer": "ipython3",
   "version": "3.6.8"
  }
 },
 "nbformat": 4,
 "nbformat_minor": 2
}
