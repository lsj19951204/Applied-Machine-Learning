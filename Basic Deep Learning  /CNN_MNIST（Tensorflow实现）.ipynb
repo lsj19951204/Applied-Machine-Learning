{
 "cells": [
  {
   "cell_type": "code",
   "execution_count": 15,
   "metadata": {},
   "outputs": [
    {
     "name": "stdout",
     "output_type": "stream",
     "text": [
      "Extracting MNIST_data/train-images-idx3-ubyte.gz\n",
      "Extracting MNIST_data/train-labels-idx1-ubyte.gz\n",
      "Extracting MNIST_data/t10k-images-idx3-ubyte.gz\n",
      "Extracting MNIST_data/t10k-labels-idx1-ubyte.gz\n"
     ]
    }
   ],
   "source": [
    "import tensorflow as tf\n",
    "from tensorflow.examples.tutorials.mnist import input_data\n",
    "\n",
    "mnist = input_data.read_data_sets('MNIST_data/', one_hot=True)"
   ]
  },
  {
   "cell_type": "code",
   "execution_count": 11,
   "metadata": {},
   "outputs": [],
   "source": [
    "# Variables\n",
    "batch_size = 100\n",
    "total_steps = 5000\n",
    "dropout_keep_prob = 0.5\n",
    "steps_per_test = 100"
   ]
  },
  {
   "cell_type": "code",
   "execution_count": 12,
   "metadata": {},
   "outputs": [],
   "source": [
    "def weight(shape, stddev=0.1, mean=0):\n",
    "    initial = tf.truncated_normal(shape=shape, mean=mean, stddev=stddev)\n",
    "    return tf.Variable(initial)\n",
    "\n",
    "def bias(shape, value=0.1):\n",
    "    initial = tf.constant(value=value, shape=shape)\n",
    "    return tf.Variable(initial)\n",
    "\n",
    "def conv2d(input, filter, strides=[1, 1, 1, 1], padding='SAME'):\n",
    "    return tf.nn.conv2d(input, filter, strides=strides, padding=padding)\n",
    "\n",
    "\n",
    "def max_pool(input, ksize=[1, 2, 2, 1], strides=[1, 2, 2, 1], padding='SAME'):\n",
    "    return tf.nn.max_pool(input, ksize=ksize, strides=strides, padding=padding)"
   ]
  },
  {
   "cell_type": "code",
   "execution_count": 13,
   "metadata": {},
   "outputs": [],
   "source": [
    "# Initial\n",
    "x = tf.placeholder(tf.float32, shape=[None, 784])\n",
    "y_label = tf.placeholder(tf.float32, shape=[None, 10])\n",
    "x_reshape = tf.reshape(x, [-1, 28, 28, 1])"
   ]
  },
  {
   "cell_type": "code",
   "execution_count": 14,
   "metadata": {},
   "outputs": [
    {
     "name": "stdout",
     "output_type": "stream",
     "text": [
      "WARNING:tensorflow:From /anaconda3/envs/Python36/lib/python3.6/site-packages/tensorflow/python/framework/op_def_library.py:263: colocate_with (from tensorflow.python.framework.ops) is deprecated and will be removed in a future version.\n",
      "Instructions for updating:\n",
      "Colocations handled automatically by placer.\n"
     ]
    }
   ],
   "source": [
    "# Layer1\n",
    "w_conv1 = weight([5, 5, 1, 32])\n",
    "b_conv1 = bias([32])\n",
    "h_conv1 = tf.nn.relu(conv2d(x_reshape, w_conv1) + b_conv1)\n",
    "h_pool1 = max_pool(h_conv1)\n",
    "\n",
    "# Layer2\n",
    "w_conv2 = weight([5, 5, 32, 64])\n",
    "b_conv2 = bias([64])\n",
    "h_conv2 = tf.nn.relu(conv2d(h_pool1, w_conv2) + b_conv2)\n",
    "h_pool2 = max_pool(h_conv2)\n",
    "\n",
    "# Layer3\n",
    "w_fc1 = weight([7 * 7 * 64, 1024])\n",
    "b_fc1 = bias([1024])\n",
    "h_pool2_flat = tf.reshape(h_pool2, [-1, 7 * 7 * 64])\n",
    "h_fc1 = tf.nn.relu(tf.matmul(h_pool2_flat, w_fc1) + b_fc1)\n",
    "\n",
    "# Dropout\n",
    "keep_prob = tf.placeholder(tf.float32)\n",
    "h_fc1_dropout = tf.nn.dropout(h_fc1, rate=1-keep_prob)\n",
    "\n",
    "# Softmax\n",
    "w_fc2 = weight([1024, 10])\n",
    "b_fc1 = bias([10])\n",
    "y = tf.nn.softmax(tf.matmul(h_fc1_dropout, w_fc2) + b_fc1)\n",
    "\n",
    "# Loss\n",
    "cross_entropy = -tf.reduce_sum(y_label * tf.log(y))\n",
    "train = tf.train.AdamOptimizer(1e-4).minimize(cross_entropy)\n",
    "\n",
    "# Prediction\n",
    "correct_prediction = tf.equal(tf.argmax(y_label, axis=1), tf.argmax(y, axis=1))\n",
    "accuracy = tf.reduce_mean(tf.cast(correct_prediction, tf.float32))"
   ]
  },
  {
   "cell_type": "code",
   "execution_count": null,
   "metadata": {},
   "outputs": [],
   "source": [
    "# Train\n",
    "with tf.Session() as sess:\n",
    "    sess.run(tf.global_variables_initializer())\n",
    "    for step in range(total_steps + 1):\n",
    "        batch = mnist.train.next_batch(batch_size)\n",
    "        sess.run(train, feed_dict={x: batch[0], y_label: batch[1], keep_prob: dropout_keep_prob})\n",
    "        # Train accuracy\n",
    "        if step % steps_per_test == 0:\n",
    "            print('Training Accuracy', step,\n",
    "                  sess.run(accuracy, feed_dict={x: batch[0], y_label: batch[1], keep_prob: 1}))"
   ]
  },
  {
   "cell_type": "code",
   "execution_count": null,
   "metadata": {},
   "outputs": [],
   "source": [
    "# Final Test\n",
    "print('Test Accuracy', sess.run(accuracy, \n",
    "                                feed_dict={x: mnist.test.images, y_label: mnist.test.labels,\n",
    "                                                     keep_prob: 1}))"
   ]
  },
  {
   "cell_type": "code",
   "execution_count": null,
   "metadata": {},
   "outputs": [],
   "source": []
  }
 ],
 "metadata": {
  "kernelspec": {
   "display_name": "Python 3",
   "language": "python",
   "name": "python3"
  },
  "language_info": {
   "codemirror_mode": {
    "name": "ipython",
    "version": 3
   },
   "file_extension": ".py",
   "mimetype": "text/x-python",
   "name": "python",
   "nbconvert_exporter": "python",
   "pygments_lexer": "ipython3",
   "version": "3.6.8"
  }
 },
 "nbformat": 4,
 "nbformat_minor": 2
}
