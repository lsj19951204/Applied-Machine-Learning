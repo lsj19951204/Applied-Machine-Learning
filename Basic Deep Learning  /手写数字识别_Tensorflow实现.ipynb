{
 "cells": [
  {
   "cell_type": "code",
   "execution_count": 1,
   "metadata": {},
   "outputs": [],
   "source": [
    "import numpy as np\n",
    "import matplotlib.pyplot as plt\n",
    "import tensorflow as tf\n",
    "from tensorflow.examples.tutorials.mnist import input_data\n",
    "import os"
   ]
  },
  {
   "cell_type": "code",
   "execution_count": 3,
   "metadata": {},
   "outputs": [
    {
     "name": "stdout",
     "output_type": "stream",
     "text": [
      "Extracting MNIST_data/train-images-idx3-ubyte.gz\n",
      "Extracting MNIST_data/train-labels-idx1-ubyte.gz\n",
      "Extracting MNIST_data/t10k-images-idx3-ubyte.gz\n",
      "Extracting MNIST_data/t10k-labels-idx1-ubyte.gz\n"
     ]
    }
   ],
   "source": [
    "# 导入MINIST数据\n",
    "mnist = input_data.read_data_sets(\"MNIST_data\", one_hot=True)\n",
    "X_holder = tf.placeholder(tf.float32)\n",
    "y_holder = tf.placeholder(tf.float32)"
   ]
  },
  {
   "cell_type": "code",
   "execution_count": 4,
   "metadata": {},
   "outputs": [
    {
     "name": "stdout",
     "output_type": "stream",
     "text": [
      "WARNING:tensorflow:From /anaconda3/envs/Python36/lib/python3.6/site-packages/tensorflow/python/framework/op_def_library.py:263: colocate_with (from tensorflow.python.framework.ops) is deprecated and will be removed in a future version.\n",
      "Instructions for updating:\n",
      "Colocations handled automatically by placer.\n",
      "WARNING:tensorflow:From /anaconda3/envs/Python36/lib/python3.6/site-packages/tensorflow/python/ops/math_ops.py:3066: to_int32 (from tensorflow.python.ops.math_ops) is deprecated and will be removed in a future version.\n",
      "Instructions for updating:\n",
      "Use tf.cast instead.\n",
      "step:0 accuracy:0.5052\n",
      "step:25 accuracy:0.8633\n",
      "step:50 accuracy:0.8802\n",
      "step:75 accuracy:0.8814\n",
      "step:100 accuracy:0.8963\n",
      "step:125 accuracy:0.8894\n",
      "step:150 accuracy:0.9007\n",
      "step:175 accuracy:0.9039\n",
      "step:200 accuracy:0.9071\n",
      "step:225 accuracy:0.9013\n",
      "step:250 accuracy:0.9082\n",
      "step:275 accuracy:0.9079\n",
      "step:300 accuracy:0.9133\n",
      "step:325 accuracy:0.9083\n",
      "step:350 accuracy:0.9079\n",
      "step:375 accuracy:0.9095\n",
      "step:400 accuracy:0.9145\n",
      "step:425 accuracy:0.9140\n",
      "step:450 accuracy:0.9141\n",
      "step:475 accuracy:0.9137\n"
     ]
    }
   ],
   "source": [
    "\n",
    "# 设置权重weights和偏置biases作为优化变量，初始值设为0\n",
    "#尽管在多数的深度学习实践中不能初始化权重为0，但此模型只有输入层输出层，所以可以权重初始化为0。\n",
    "Weights = tf.Variable(tf.zeros([784, 10]))\n",
    "biases = tf.Variable(tf.zeros([1,10]))\n",
    "\n",
    "predict_y = tf.nn.softmax(tf.matmul(X_holder, Weights) + biases)  #模型预测值\n",
    "\n",
    "loss = tf.reduce_mean(-tf.reduce_sum(y_holder * tf.log(predict_y), 1)) #定义损失函数\n",
    "\n",
    "optimizer = tf.train.GradientDescentOptimizer(0.5)  # 使用梯度下降优化\n",
    "train = optimizer.minimize(loss)\n",
    "\n",
    "session = tf.Session()\n",
    "init = tf.global_variables_initializer()\n",
    "session.run(init)                            #初始化\n",
    "\n",
    "batch_size = 100 # 每次随机选取100个数据进行训练\n",
    "for i in range(500):\n",
    "    images, labels = mnist.train.next_batch(batch_size)\n",
    "    session.run(train, feed_dict={X_holder:images, y_holder:labels})\n",
    "    if i % 25 == 0:             # 每训练25次后评估模型\n",
    "        correct_prediction = tf.equal(tf.argmax(predict_y, 1), tf.argmax(y_holder, 1))\n",
    "        accuracy = tf.reduce_mean(tf.cast(correct_prediction, tf.float32))\n",
    "        accuracy_value = session.run(accuracy, \n",
    "                                     feed_dict={X_holder:mnist.test.images, \n",
    "                                                y_holder:mnist.test.labels})\n",
    "        print('step:%d accuracy:%.4f' %(i, accuracy_value))"
   ]
  },
  {
   "cell_type": "code",
   "execution_count": null,
   "metadata": {},
   "outputs": [],
   "source": []
  }
 ],
 "metadata": {
  "kernelspec": {
   "display_name": "Python 3",
   "language": "python",
   "name": "python3"
  },
  "language_info": {
   "codemirror_mode": {
    "name": "ipython",
    "version": 3
   },
   "file_extension": ".py",
   "mimetype": "text/x-python",
   "name": "python",
   "nbconvert_exporter": "python",
   "pygments_lexer": "ipython3",
   "version": "3.6.8"
  }
 },
 "nbformat": 4,
 "nbformat_minor": 2
}
